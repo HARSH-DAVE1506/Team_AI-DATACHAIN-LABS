{
 "cells": [
  {
   "cell_type": "code",
   "execution_count": 1,
   "id": "ca44fb5f",
   "metadata": {},
   "outputs": [
    {
     "name": "stdout",
     "output_type": "stream",
     "text": [
      "Enter User Type (Options: 0, 1): \n",
      "0\n",
      "Enter Domain (Options: 3, 0, 4, 2, 1): \n",
      "2\n",
      "Enter Field (Options: 3, 4, 2, 1, 0): \n",
      "2\n",
      "Enter Usage (Options: 1, 0): \n",
      "1\n",
      "Enter Timeline (Options: 2, 0, 1): \n",
      "1\n",
      "Predicted Project: PRE\n"
     ]
    }
   ],
   "source": [
    "import pandas as pd\n",
    "from sklearn.tree import DecisionTreeClassifier\n",
    "from sklearn.preprocessing import LabelEncoder\n",
    "from sklearn.model_selection import train_test_split\n",
    "\n",
    "# Load the dataset\n",
    "data = pd.read_csv('rec_dataset_hackathon.csv')\n",
    "\n",
    "# Preprocess the data\n",
    "# Replace missing values if any\n",
    "data.fillna(0, inplace=True)\n",
    "\n",
    "# Encode categorical variables\n",
    "cat_features = ['User Type', 'Domain', 'Field', 'Usage', 'Timeline']\n",
    "for feature in cat_features:\n",
    "    encoder = LabelEncoder()\n",
    "    data[feature] = encoder.fit_transform(data[feature])\n",
    "data['Recproj'] = data['Recproj'].apply({'NLP':0, 'DATA':1,'CV':2, 'IMP':3, 'PRE':4}.get)\n",
    "\n",
    "# Separate the features and target variable\n",
    "X = data.drop('Recproj', axis=1)\n",
    "y = data['Recproj']\n",
    "\n",
    "# Split the data into training and testing sets\n",
    "X_train, X_test, y_train, y_test = train_test_split(X, y, test_size=0.2, random_state=42)\n",
    "\n",
    "# Train the decision tree classifier\n",
    "model = DecisionTreeClassifier()\n",
    "model.fit(X_train, y_train)\n",
    "\n",
    "# User input function to get new data for prediction\n",
    "def get_user_input():\n",
    "    user_input = {}\n",
    "\n",
    "    for feature in X.columns:\n",
    "        if feature in cat_features:\n",
    "            unique_values = data[feature].unique()\n",
    "            options = ', '.join(str(value) for value in unique_values)\n",
    "            print(f\"Enter {feature} (Options: {options}): \")\n",
    "            user_input[feature] = input()\n",
    "        else:\n",
    "            print(f\"Enter {feature}: \")\n",
    "            user_input[feature] = float(input())\n",
    "\n",
    "    return pd.DataFrame(user_input, index=[0])\n",
    "\n",
    "\n",
    "# Make predictions on new data\n",
    "user_data = get_user_input()\n",
    "user_data = user_data.astype(y.dtypes)\n",
    "\n",
    "prediction = model.predict(user_data)\n",
    "\n",
    "prediction_label = {0: 'NLP', 1: 'DATA', 2: 'CV', 3:'IMP', 4:'PRE'}.get(prediction[0])\n",
    "print(\"Predicted Project:\", prediction_label)"
   ]
  },
  {
   "cell_type": "code",
   "execution_count": 2,
   "id": "44b76f4a",
   "metadata": {},
   "outputs": [
    {
     "name": "stdout",
     "output_type": "stream",
     "text": [
      "Accuracy: 0.823170731707317\n"
     ]
    }
   ],
   "source": [
    "from sklearn.metrics import accuracy_score\n",
    "y_pred = model.predict(X_test)\n",
    "accuracy = accuracy_score(y_test, y_pred)\n",
    "print(\"Accuracy:\", accuracy)"
   ]
  },
  {
   "cell_type": "code",
   "execution_count": null,
   "id": "c4d4b91e",
   "metadata": {},
   "outputs": [],
   "source": []
  }
 ],
 "metadata": {
  "kernelspec": {
   "display_name": "Python 3",
   "language": "python",
   "name": "python3"
  },
  "language_info": {
   "codemirror_mode": {
    "name": "ipython",
    "version": 3
   },
   "file_extension": ".py",
   "mimetype": "text/x-python",
   "name": "python",
   "nbconvert_exporter": "python",
   "pygments_lexer": "ipython3",
   "version": "3.8.8"
  }
 },
 "nbformat": 4,
 "nbformat_minor": 5
}
